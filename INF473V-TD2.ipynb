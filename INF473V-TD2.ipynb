{
 "cells": [
  {
   "cell_type": "code",
   "execution_count": 1,
   "metadata": {},
   "outputs": [],
   "source": [
    "import torch\n",
    "import numpy as np\n",
    "from tqdm.notebook import tqdm\n",
    "import matplotlib.pyplot as plt"
   ]
  },
  {
   "cell_type": "code",
   "execution_count": 2,
   "metadata": {},
   "outputs": [],
   "source": [
    "from torchvision import datasets\n",
    "from torchvision.transforms import Compose, ToTensor, Lambda\n",
    "from torch.utils.data import DataLoader\n",
    "\n",
    "transformations = Compose([ToTensor(), Lambda(lambda x: x.view(-1)) ])\n",
    "training_data = datasets.FashionMNIST(\n",
    "    \".\", \n",
    "    download=True, \n",
    "    train=True, \n",
    "    transform=transformations\n",
    ")\n",
    "test_data = datasets.FashionMNIST(\n",
    "    \".\", \n",
    "    download=True, \n",
    "    train=False, \n",
    "    transform=transformations  \n",
    ")\n",
    "\n"
   ]
  },
  {
   "cell_type": "code",
   "execution_count": 4,
   "metadata": {},
   "outputs": [
    {
     "data": {
      "text/plain": [
       "torch.Size([784])"
      ]
     },
     "execution_count": 4,
     "metadata": {},
     "output_type": "execute_result"
    }
   ],
   "source": [
    "training_data[1][0].size()"
   ]
  },
  {
   "cell_type": "markdown",
   "metadata": {},
   "source": [
    "## My first neural network: StupidNet™"
   ]
  },
  {
   "cell_type": "code",
   "execution_count": 5,
   "metadata": {},
   "outputs": [],
   "source": [
    "model_TD1 = torch.nn.Sequential(\n",
    "    torch.nn.Linear(784, 1)\n",
    "    )\n",
    "f = lambda x: torch.round(x)"
   ]
  },
  {
   "cell_type": "markdown",
   "metadata": {},
   "source": [
    "## Training StupidNet™"
   ]
  },
  {
   "cell_type": "code",
   "execution_count": 6,
   "metadata": {},
   "outputs": [],
   "source": [
    "\n",
    "def trainer(dataset,model,loss_fn,epoch=10,batch_size=1,rate=1e-4):\n",
    "    optimizer = torch.optim.Adam(model.parameters(), lr=rate)\n",
    "    batch = DataLoader(dataset, batch_size=batch_size, shuffle=True)\n",
    "    losses = []\n",
    "    for e in range(epoch):\n",
    "        \n",
    "        for x, y in tqdm(batch, desc = f\"epoch {e+1}/{epoch}\"):\n",
    "            optimizer.zero_grad()\n",
    "            y_pred = model(x)\n",
    "            loss = loss_fn(y_pred.float(), y.float())\n",
    "            loss.backward()\n",
    "            optimizer.step()\n",
    "            losses.append(loss.item())\n",
    "    return(losses)\n",
    "   \n",
    "    "
   ]
  },
  {
   "cell_type": "code",
   "execution_count": 8,
   "metadata": {},
   "outputs": [
    {
     "data": {
      "application/vnd.jupyter.widget-view+json": {
       "model_id": "6f4bbde015ba4f038476b9dbdbbefd47",
       "version_major": 2,
       "version_minor": 0
      },
      "text/plain": [
       "epoch 1/10:   0%|          | 0/60000 [00:00<?, ?it/s]"
      ]
     },
     "metadata": {},
     "output_type": "display_data"
    },
    {
     "data": {
      "application/vnd.jupyter.widget-view+json": {
       "model_id": "4b366bc2c6b34366b3520ad394819461",
       "version_major": 2,
       "version_minor": 0
      },
      "text/plain": [
       "epoch 2/10:   0%|          | 0/60000 [00:00<?, ?it/s]"
      ]
     },
     "metadata": {},
     "output_type": "display_data"
    },
    {
     "data": {
      "application/vnd.jupyter.widget-view+json": {
       "model_id": "f362175e150c4dadae3a98e801c1d9ce",
       "version_major": 2,
       "version_minor": 0
      },
      "text/plain": [
       "epoch 3/10:   0%|          | 0/60000 [00:00<?, ?it/s]"
      ]
     },
     "metadata": {},
     "output_type": "display_data"
    },
    {
     "data": {
      "application/vnd.jupyter.widget-view+json": {
       "model_id": "329571a2a8004a2aa9a7568eabe6eb15",
       "version_major": 2,
       "version_minor": 0
      },
      "text/plain": [
       "epoch 4/10:   0%|          | 0/60000 [00:00<?, ?it/s]"
      ]
     },
     "metadata": {},
     "output_type": "display_data"
    },
    {
     "data": {
      "application/vnd.jupyter.widget-view+json": {
       "model_id": "a109a1d681344da49e6c947f2e562040",
       "version_major": 2,
       "version_minor": 0
      },
      "text/plain": [
       "epoch 5/10:   0%|          | 0/60000 [00:00<?, ?it/s]"
      ]
     },
     "metadata": {},
     "output_type": "display_data"
    },
    {
     "data": {
      "application/vnd.jupyter.widget-view+json": {
       "model_id": "ee807032b79f41d0903095ccc01a6eca",
       "version_major": 2,
       "version_minor": 0
      },
      "text/plain": [
       "epoch 6/10:   0%|          | 0/60000 [00:00<?, ?it/s]"
      ]
     },
     "metadata": {},
     "output_type": "display_data"
    },
    {
     "data": {
      "application/vnd.jupyter.widget-view+json": {
       "model_id": "6151df5025854483a4226e281b78f930",
       "version_major": 2,
       "version_minor": 0
      },
      "text/plain": [
       "epoch 7/10:   0%|          | 0/60000 [00:00<?, ?it/s]"
      ]
     },
     "metadata": {},
     "output_type": "display_data"
    },
    {
     "data": {
      "application/vnd.jupyter.widget-view+json": {
       "model_id": "b000bc4b6ec84ded88b6803e8200a181",
       "version_major": 2,
       "version_minor": 0
      },
      "text/plain": [
       "epoch 8/10:   0%|          | 0/60000 [00:00<?, ?it/s]"
      ]
     },
     "metadata": {},
     "output_type": "display_data"
    },
    {
     "data": {
      "application/vnd.jupyter.widget-view+json": {
       "model_id": "d6fd7582d9744e07a42db24f6b8089f9",
       "version_major": 2,
       "version_minor": 0
      },
      "text/plain": [
       "epoch 9/10:   0%|          | 0/60000 [00:00<?, ?it/s]"
      ]
     },
     "metadata": {},
     "output_type": "display_data"
    },
    {
     "data": {
      "application/vnd.jupyter.widget-view+json": {
       "model_id": "9a99af26f4554a5fb0ef993299f67606",
       "version_major": 2,
       "version_minor": 0
      },
      "text/plain": [
       "epoch 10/10:   0%|          | 0/60000 [00:00<?, ?it/s]"
      ]
     },
     "metadata": {},
     "output_type": "display_data"
    },
    {
     "data": {
      "image/png": "[encoded data removed]",
      "text/plain": [
       "<Figure size 640x480 with 1 Axes>"
      ]
     },
     "metadata": {},
     "output_type": "display_data"
    }
   ],
   "source": [
    "plt.plot(trainer(training_data,model_TD1,torch.nn.MSELoss(),epoch=10,batch_size=1,rate=1e-4))\n",
    "plt.show()"
   ]
  },
  {
   "cell_type": "code",
   "execution_count": 9,
   "metadata": {},
   "outputs": [],
   "source": [
    "def success_rate(model,test_data):\n",
    "    success = 0\n",
    "    for x, y in test_data:\n",
    "        if f(model(x)) == y:\n",
    "            success += 1\n",
    "    return success/len(test_data)"
   ]
  },
  {
   "cell_type": "code",
   "execution_count": 10,
   "metadata": {},
   "outputs": [
    {
     "data": {
      "text/plain": [
       "0.3713"
      ]
     },
     "execution_count": 10,
     "metadata": {},
     "output_type": "execute_result"
    }
   ],
   "source": [
    "success_rate(model_TD1,test_data)"
   ]
  },
  {
   "cell_type": "markdown",
   "metadata": {},
   "source": [
    "## Improving StupidNet™ : our second neural network"
   ]
  },
  {
   "cell_type": "code",
   "execution_count": 11,
   "metadata": {},
   "outputs": [],
   "source": [
    "\n",
    "def trainer_vector(dataset, model, loss_fn, epoch=10, batch_size=1, rate=1e-4):\n",
    "    device = torch.device(\"cuda\" if torch.cuda.is_available() else \"cpu\")\n",
    "    model.to(device)\n",
    "    optimizer = torch.optim.Adam(model.parameters(), lr=rate)\n",
    "    batch = DataLoader(dataset, batch_size=batch_size, shuffle=True)\n",
    "    losses = []\n",
    "    for e in range(epoch):\n",
    "        for x, y in tqdm(batch, desc=f\"epoch {e+1}/{epoch}\"):\n",
    "            x = x.to(device)\n",
    "            y = y.to(device)\n",
    "            optimizer.zero_grad()\n",
    "            y_pred = model(x)\n",
    "            loss = loss_fn(y_pred, y)\n",
    "            loss.backward()\n",
    "            optimizer.step()\n",
    "        losses.append(loss.item())\n",
    "    return losses\n"
   ]
  },
  {
   "cell_type": "code",
   "execution_count": 12,
   "metadata": {},
   "outputs": [],
   "source": [
    "model_10 = torch.nn.Sequential(\n",
    "    torch.nn.Linear(784, 10),\n",
    "    torch.nn.LogSoftmax(dim = 1)\n",
    "    )"
   ]
  },
  {
   "cell_type": "code",
   "execution_count": 14,
   "metadata": {},
   "outputs": [
    {
     "data": {
      "application/vnd.jupyter.widget-view+json": {
       "model_id": "1251e8df081e46b887d6337681176afb",
       "version_major": 2,
       "version_minor": 0
      },
      "text/plain": [
       "epoch 1/10:   0%|          | 0/469 [00:00<?, ?it/s]"
      ]
     },
     "metadata": {},
     "output_type": "display_data"
    },
    {
     "data": {
      "application/vnd.jupyter.widget-view+json": {
       "model_id": "1cdf0d2697414eb48339f853733a067b",
       "version_major": 2,
       "version_minor": 0
      },
      "text/plain": [
       "epoch 2/10:   0%|          | 0/469 [00:00<?, ?it/s]"
      ]
     },
     "metadata": {},
     "output_type": "display_data"
    },
    {
     "data": {
      "application/vnd.jupyter.widget-view+json": {
       "model_id": "3389bacc687e46d2b9854ac0fbdaa515",
       "version_major": 2,
       "version_minor": 0
      },
      "text/plain": [
       "epoch 3/10:   0%|          | 0/469 [00:00<?, ?it/s]"
      ]
     },
     "metadata": {},
     "output_type": "display_data"
    },
    {
     "data": {
      "application/vnd.jupyter.widget-view+json": {
       "model_id": "fc1aced6333f480395c7ff595c70edeb",
       "version_major": 2,
       "version_minor": 0
      },
      "text/plain": [
       "epoch 4/10:   0%|          | 0/469 [00:00<?, ?it/s]"
      ]
     },
     "metadata": {},
     "output_type": "display_data"
    },
    {
     "data": {
      "application/vnd.jupyter.widget-view+json": {
       "model_id": "7eac4b9028b645e793027d8284d3514b",
       "version_major": 2,
       "version_minor": 0
      },
      "text/plain": [
       "epoch 5/10:   0%|          | 0/469 [00:00<?, ?it/s]"
      ]
     },
     "metadata": {},
     "output_type": "display_data"
    },
    {
     "data": {
      "application/vnd.jupyter.widget-view+json": {
       "model_id": "c8a7e1f0a884467b895854372030610e",
       "version_major": 2,
       "version_minor": 0
      },
      "text/plain": [
       "epoch 6/10:   0%|          | 0/469 [00:00<?, ?it/s]"
      ]
     },
     "metadata": {},
     "output_type": "display_data"
    },
    {
     "data": {
      "application/vnd.jupyter.widget-view+json": {
       "model_id": "a2c049890601411f9300c49bf6f376c6",
       "version_major": 2,
       "version_minor": 0
      },
      "text/plain": [
       "epoch 7/10:   0%|          | 0/469 [00:00<?, ?it/s]"
      ]
     },
     "metadata": {},
     "output_type": "display_data"
    },
    {
     "data": {
      "application/vnd.jupyter.widget-view+json": {
       "model_id": "0c491fcbbfd646f68854e2dccbfde695",
       "version_major": 2,
       "version_minor": 0
      },
      "text/plain": [
       "epoch 8/10:   0%|          | 0/469 [00:00<?, ?it/s]"
      ]
     },
     "metadata": {},
     "output_type": "display_data"
    },
    {
     "data": {
      "application/vnd.jupyter.widget-view+json": {
       "model_id": "6081a3ea6ff542dd9065cbd1fb7de318",
       "version_major": 2,
       "version_minor": 0
      },
      "text/plain": [
       "epoch 9/10:   0%|          | 0/469 [00:00<?, ?it/s]"
      ]
     },
     "metadata": {},
     "output_type": "display_data"
    },
    {
     "data": {
      "application/vnd.jupyter.widget-view+json": {
       "model_id": "d407ffa556d741dc9fb0ee038c71cb7d",
       "version_major": 2,
       "version_minor": 0
      },
      "text/plain": [
       "epoch 10/10:   0%|          | 0/469 [00:00<?, ?it/s]"
      ]
     },
     "metadata": {},
     "output_type": "display_data"
    },
    {
     "data": {
      "image/png": "[encoded data removed]",
      "text/plain": [
       "<Figure size 640x480 with 1 Axes>"
      ]
     },
     "metadata": {},
     "output_type": "display_data"
    }
   ],
   "source": [
    "plt.plot(trainer_vector(training_data,model_10,torch.nn.NLLLoss(),epoch=10,batch_size=128,rate=1e-4))\n",
    "plt.show()"
   ]
  },
  {
   "cell_type": "code",
   "execution_count": 15,
   "metadata": {},
   "outputs": [],
   "source": [
    "def success_rate_vector(model,test_data):\n",
    "    device = torch.device(\"cuda\" if torch.cuda.is_available() else \"cpu\")\n",
    "    model.to(device)\n",
    "    success = 0\n",
    "    test_data = DataLoader(test_data, batch_size=1, shuffle=True)\n",
    "    for x, y in test_data:\n",
    "        x = x.to(device)\n",
    "        y = y.to(device)\n",
    "        if torch.argmax(model(x)) == y:\n",
    "            success += 1\n",
    "    return success/len(test_data)"
   ]
  },
  {
   "cell_type": "code",
   "execution_count": 16,
   "metadata": {},
   "outputs": [
    {
     "data": {
      "text/plain": [
       "0.8214"
      ]
     },
     "execution_count": 16,
     "metadata": {},
     "output_type": "execute_result"
    }
   ],
   "source": [
    "\n",
    "success_rate_vector(model_10,test_data)"
   ]
  },
  {
   "cell_type": "markdown",
   "metadata": {},
   "source": [
    "## Activation functions"
   ]
  },
  {
   "cell_type": "code",
   "execution_count": 17,
   "metadata": {},
   "outputs": [],
   "source": [
    "model_ReLU = torch.nn.Sequential(\n",
    "    torch.nn.Linear(784, 128),\n",
    "    torch.nn.Linear(128, 10),\n",
    "    torch.nn.ReLU(),\n",
    "    torch.nn.LogSoftmax(dim = 1)\n",
    "    )"
   ]
  },
  {
   "cell_type": "code",
   "execution_count": 18,
   "metadata": {},
   "outputs": [
    {
     "data": {
      "application/vnd.jupyter.widget-view+json": {
       "model_id": "7c6fed7b49814c92a25c2b9ef74bba4d",
       "version_major": 2,
       "version_minor": 0
      },
      "text/plain": [
       "epoch 1/10:   0%|          | 0/938 [00:00<?, ?it/s]"
      ]
     },
     "metadata": {},
     "output_type": "display_data"
    },
    {
     "data": {
      "application/vnd.jupyter.widget-view+json": {
       "model_id": "90952d50feea4c158489dafb30951126",
       "version_major": 2,
       "version_minor": 0
      },
      "text/plain": [
       "epoch 2/10:   0%|          | 0/938 [00:00<?, ?it/s]"
      ]
     },
     "metadata": {},
     "output_type": "display_data"
    },
    {
     "data": {
      "application/vnd.jupyter.widget-view+json": {
       "model_id": "e99324d0b64d420fb58049e248d3eab5",
       "version_major": 2,
       "version_minor": 0
      },
      "text/plain": [
       "epoch 3/10:   0%|          | 0/938 [00:00<?, ?it/s]"
      ]
     },
     "metadata": {},
     "output_type": "display_data"
    },
    {
     "data": {
      "application/vnd.jupyter.widget-view+json": {
       "model_id": "815ec55e3fe74e29a3ca0ee1bc7f2655",
       "version_major": 2,
       "version_minor": 0
      },
      "text/plain": [
       "epoch 4/10:   0%|          | 0/938 [00:00<?, ?it/s]"
      ]
     },
     "metadata": {},
     "output_type": "display_data"
    },
    {
     "data": {
      "application/vnd.jupyter.widget-view+json": {
       "model_id": "16a0a92d77a5415a871b2f99c3434070",
       "version_major": 2,
       "version_minor": 0
      },
      "text/plain": [
       "epoch 5/10:   0%|          | 0/938 [00:00<?, ?it/s]"
      ]
     },
     "metadata": {},
     "output_type": "display_data"
    },
    {
     "data": {
      "application/vnd.jupyter.widget-view+json": {
       "model_id": "30f68f9b57844de6a481ee0c93469c05",
       "version_major": 2,
       "version_minor": 0
      },
      "text/plain": [
       "epoch 6/10:   0%|          | 0/938 [00:00<?, ?it/s]"
      ]
     },
     "metadata": {},
     "output_type": "display_data"
    },
    {
     "data": {
      "application/vnd.jupyter.widget-view+json": {
       "model_id": "1757d671746d4b088b3e1f520864e2a7",
       "version_major": 2,
       "version_minor": 0
      },
      "text/plain": [
       "epoch 7/10:   0%|          | 0/938 [00:00<?, ?it/s]"
      ]
     },
     "metadata": {},
     "output_type": "display_data"
    },
    {
     "data": {
      "application/vnd.jupyter.widget-view+json": {
       "model_id": "ba1acf9d406f4beb82210730ffd0e59a",
       "version_major": 2,
       "version_minor": 0
      },
      "text/plain": [
       "epoch 8/10:   0%|          | 0/938 [00:00<?, ?it/s]"
      ]
     },
     "metadata": {},
     "output_type": "display_data"
    },
    {
     "data": {
      "application/vnd.jupyter.widget-view+json": {
       "model_id": "a4c716204a4e43419b6b0c889eefc470",
       "version_major": 2,
       "version_minor": 0
      },
      "text/plain": [
       "epoch 9/10:   0%|          | 0/938 [00:00<?, ?it/s]"
      ]
     },
     "metadata": {},
     "output_type": "display_data"
    },
    {
     "data": {
      "application/vnd.jupyter.widget-view+json": {
       "model_id": "5cebf7da8386408793fb132efae26bae",
       "version_major": 2,
       "version_minor": 0
      },
      "text/plain": [
       "epoch 10/10:   0%|          | 0/938 [00:00<?, ?it/s]"
      ]
     },
     "metadata": {},
     "output_type": "display_data"
    },
    {
     "data": {
      "image/png": "[encoded data removed]",
      "text/plain": [
       "<Figure size 640x480 with 1 Axes>"
      ]
     },
     "metadata": {},
     "output_type": "display_data"
    }
   ],
   "source": [
    "plt.plot(trainer_vector(training_data,model_ReLU,torch.nn.NLLLoss(),epoch=10,batch_size=64,rate=1e-4))\n",
    "plt.show()"
   ]
  },
  {
   "cell_type": "code",
   "execution_count": null,
   "metadata": {},
   "outputs": [
    {
     "data": {
      "text/plain": [
       "0.752"
      ]
     },
     "execution_count": 190,
     "metadata": {},
     "output_type": "execute_result"
    }
   ],
   "source": [
    "success_rate_vector(model_ReLU,test_data)"
   ]
  },
  {
   "cell_type": "code",
   "execution_count": 19,
   "metadata": {},
   "outputs": [],
   "source": [
    "model_Tanh = torch.nn.Sequential(\n",
    "    torch.nn.Linear(784, 128),\n",
    "    torch.nn.Linear(128, 10),\n",
    "    torch.nn.Tanh(),\n",
    "    torch.nn.LogSoftmax(dim = 1)\n",
    "    )"
   ]
  },
  {
   "cell_type": "code",
   "execution_count": 20,
   "metadata": {},
   "outputs": [
    {
     "data": {
      "application/vnd.jupyter.widget-view+json": {
       "model_id": "430bc4195261437a8375d322c1e11253",
       "version_major": 2,
       "version_minor": 0
      },
      "text/plain": [
       "epoch 1/10:   0%|          | 0/938 [00:00<?, ?it/s]"
      ]
     },
     "metadata": {},
     "output_type": "display_data"
    },
    {
     "data": {
      "application/vnd.jupyter.widget-view+json": {
       "model_id": "c41650f404654d2eb1aea3c22be2bad3",
       "version_major": 2,
       "version_minor": 0
      },
      "text/plain": [
       "epoch 2/10:   0%|          | 0/938 [00:00<?, ?it/s]"
      ]
     },
     "metadata": {},
     "output_type": "display_data"
    },
    {
     "data": {
      "application/vnd.jupyter.widget-view+json": {
       "model_id": "6b38fa16027e46b19c2baca4951509f6",
       "version_major": 2,
       "version_minor": 0
      },
      "text/plain": [
       "epoch 3/10:   0%|          | 0/938 [00:00<?, ?it/s]"
      ]
     },
     "metadata": {},
     "output_type": "display_data"
    },
    {
     "data": {
      "application/vnd.jupyter.widget-view+json": {
       "model_id": "0187b37f16944b0984550ebd9c494962",
       "version_major": 2,
       "version_minor": 0
      },
      "text/plain": [
       "epoch 4/10:   0%|          | 0/938 [00:00<?, ?it/s]"
      ]
     },
     "metadata": {},
     "output_type": "display_data"
    },
    {
     "data": {
      "application/vnd.jupyter.widget-view+json": {
       "model_id": "a5f3e0ae7b444896b43eec0392fe0630",
       "version_major": 2,
       "version_minor": 0
      },
      "text/plain": [
       "epoch 5/10:   0%|          | 0/938 [00:00<?, ?it/s]"
      ]
     },
     "metadata": {},
     "output_type": "display_data"
    },
    {
     "data": {
      "application/vnd.jupyter.widget-view+json": {
       "model_id": "f583c27a40ee4271ad33d7a5d7d02891",
       "version_major": 2,
       "version_minor": 0
      },
      "text/plain": [
       "epoch 6/10:   0%|          | 0/938 [00:00<?, ?it/s]"
      ]
     },
     "metadata": {},
     "output_type": "display_data"
    },
    {
     "data": {
      "application/vnd.jupyter.widget-view+json": {
       "model_id": "ea3cfc02b9e24a578066af28999687f4",
       "version_major": 2,
       "version_minor": 0
      },
      "text/plain": [
       "epoch 7/10:   0%|          | 0/938 [00:00<?, ?it/s]"
      ]
     },
     "metadata": {},
     "output_type": "display_data"
    },
    {
     "data": {
      "application/vnd.jupyter.widget-view+json": {
       "model_id": "c2d6b60bd90b417faae02a90da17f195",
       "version_major": 2,
       "version_minor": 0
      },
      "text/plain": [
       "epoch 8/10:   0%|          | 0/938 [00:00<?, ?it/s]"
      ]
     },
     "metadata": {},
     "output_type": "display_data"
    },
    {
     "data": {
      "application/vnd.jupyter.widget-view+json": {
       "model_id": "07ba51eb104f42b88c321f7eb9338816",
       "version_major": 2,
       "version_minor": 0
      },
      "text/plain": [
       "epoch 9/10:   0%|          | 0/938 [00:00<?, ?it/s]"
      ]
     },
     "metadata": {},
     "output_type": "display_data"
    },
    {
     "data": {
      "application/vnd.jupyter.widget-view+json": {
       "model_id": "95496cd82a2f4434a43f48a85efb0cb6",
       "version_major": 2,
       "version_minor": 0
      },
      "text/plain": [
       "epoch 10/10:   0%|          | 0/938 [00:00<?, ?it/s]"
      ]
     },
     "metadata": {},
     "output_type": "display_data"
    },
    {
     "data": {
      "image/png": "[encoded data removed]",
      "text/plain": [
       "<Figure size 640x480 with 1 Axes>"
      ]
     },
     "metadata": {},
     "output_type": "display_data"
    }
   ],
   "source": [
    "plt.plot(trainer_vector(training_data,model_Tanh,torch.nn.NLLLoss(),epoch=10,batch_size=64,rate=1e-4))\n",
    "plt.show()"
   ]
  },
  {
   "cell_type": "code",
   "execution_count": 21,
   "metadata": {},
   "outputs": [],
   "source": [
    "model_Sigmoid = torch.nn.Sequential(\n",
    "    torch.nn.Linear(784, 128),\n",
    "    torch.nn.Linear(128, 10),\n",
    "    torch.nn.Sigmoid(),\n",
    "    torch.nn.LogSoftmax(dim = 1)\n",
    "    )"
   ]
  },
  {
   "cell_type": "code",
   "execution_count": 22,
   "metadata": {},
   "outputs": [
    {
     "data": {
      "application/vnd.jupyter.widget-view+json": {
       "model_id": "a007f805df354d2f9ca3b750cbfa479f",
       "version_major": 2,
       "version_minor": 0
      },
      "text/plain": [
       "epoch 1/10:   0%|          | 0/938 [00:00<?, ?it/s]"
      ]
     },
     "metadata": {},
     "output_type": "display_data"
    },
    {
     "data": {
      "application/vnd.jupyter.widget-view+json": {
       "model_id": "e073f8f6947d4b0ba26668cf1b14374c",
       "version_major": 2,
       "version_minor": 0
      },
      "text/plain": [
       "epoch 2/10:   0%|          | 0/938 [00:00<?, ?it/s]"
      ]
     },
     "metadata": {},
     "output_type": "display_data"
    },
    {
     "data": {
      "application/vnd.jupyter.widget-view+json": {
       "model_id": "e7d87343e95346bca2689d806ced10a9",
       "version_major": 2,
       "version_minor": 0
      },
      "text/plain": [
       "epoch 3/10:   0%|          | 0/938 [00:00<?, ?it/s]"
      ]
     },
     "metadata": {},
     "output_type": "display_data"
    },
    {
     "data": {
      "application/vnd.jupyter.widget-view+json": {
       "model_id": "9760e6e9c9a848609a82187ebe8e09c6",
       "version_major": 2,
       "version_minor": 0
      },
      "text/plain": [
       "epoch 4/10:   0%|          | 0/938 [00:00<?, ?it/s]"
      ]
     },
     "metadata": {},
     "output_type": "display_data"
    },
    {
     "data": {
      "application/vnd.jupyter.widget-view+json": {
       "model_id": "216cb35b4e9846708df3a9961a69ea30",
       "version_major": 2,
       "version_minor": 0
      },
      "text/plain": [
       "epoch 5/10:   0%|          | 0/938 [00:00<?, ?it/s]"
      ]
     },
     "metadata": {},
     "output_type": "display_data"
    },
    {
     "data": {
      "application/vnd.jupyter.widget-view+json": {
       "model_id": "985fa2e721cc4dc494d4b360fc455920",
       "version_major": 2,
       "version_minor": 0
      },
      "text/plain": [
       "epoch 6/10:   0%|          | 0/938 [00:00<?, ?it/s]"
      ]
     },
     "metadata": {},
     "output_type": "display_data"
    },
    {
     "data": {
      "application/vnd.jupyter.widget-view+json": {
       "model_id": "3529c8c648c041169d4c6d4d703f6649",
       "version_major": 2,
       "version_minor": 0
      },
      "text/plain": [
       "epoch 7/10:   0%|          | 0/938 [00:00<?, ?it/s]"
      ]
     },
     "metadata": {},
     "output_type": "display_data"
    },
    {
     "data": {
      "application/vnd.jupyter.widget-view+json": {
       "model_id": "640d5608ff2545bab290140a1361a06a",
       "version_major": 2,
       "version_minor": 0
      },
      "text/plain": [
       "epoch 8/10:   0%|          | 0/938 [00:00<?, ?it/s]"
      ]
     },
     "metadata": {},
     "output_type": "display_data"
    },
    {
     "data": {
      "application/vnd.jupyter.widget-view+json": {
       "model_id": "e3906e7a4069472fa21d4c08ef28cb32",
       "version_major": 2,
       "version_minor": 0
      },
      "text/plain": [
       "epoch 9/10:   0%|          | 0/938 [00:00<?, ?it/s]"
      ]
     },
     "metadata": {},
     "output_type": "display_data"
    },
    {
     "data": {
      "application/vnd.jupyter.widget-view+json": {
       "model_id": "c700613060e84f6fa224489f6660df8a",
       "version_major": 2,
       "version_minor": 0
      },
      "text/plain": [
       "epoch 10/10:   0%|          | 0/938 [00:00<?, ?it/s]"
      ]
     },
     "metadata": {},
     "output_type": "display_data"
    },
    {
     "data": {
      "image/png": "[encoded data removed]",
      "text/plain": [
       "<Figure size 640x480 with 1 Axes>"
      ]
     },
     "metadata": {},
     "output_type": "display_data"
    }
   ],
   "source": [
    "plt.plot(trainer_vector(training_data,model_Sigmoid,torch.nn.NLLLoss(),epoch=10,batch_size=64,rate=1e-4))\n",
    "plt.show()"
   ]
  },
  {
   "cell_type": "code",
   "execution_count": 23,
   "metadata": {},
   "outputs": [
    {
     "data": {
      "text/plain": [
       "(0.8422, 0.828, 0.7681)"
      ]
     },
     "execution_count": 23,
     "metadata": {},
     "output_type": "execute_result"
    }
   ],
   "source": [
    "success_rate_vector(model_ReLU,test_data), success_rate_vector(model_Tanh,test_data), success_rate_vector(model_Sigmoid,test_data)"
   ]
  },
  {
   "cell_type": "code",
   "execution_count": 24,
   "metadata": {},
   "outputs": [],
   "source": [
    "model_ReLU2 = torch.nn.Sequential(\n",
    "    torch.nn.Linear(784, 512),\n",
    "    torch.nn.Linear(512, 256),\n",
    "    torch.nn.ReLU(),\n",
    "    torch.nn.Linear(256, 128),\n",
    "    torch.nn.ReLU(),\n",
    "    torch.nn.Linear(128, 64),\n",
    "    torch.nn.ReLU(),\n",
    "    torch.nn.Linear(64, 32),\n",
    "    torch.nn.ReLU(),\n",
    "    torch.nn.Linear(32, 10),\n",
    "    torch.nn.LogSoftmax(dim = 1)\n",
    "    )"
   ]
  },
  {
   "cell_type": "code",
   "execution_count": 25,
   "metadata": {},
   "outputs": [
    {
     "data": {
      "application/vnd.jupyter.widget-view+json": {
       "model_id": "f583f4acf5004bd39064175121e2a3f8",
       "version_major": 2,
       "version_minor": 0
      },
      "text/plain": [
       "epoch 1/30:   0%|          | 0/469 [00:00<?, ?it/s]"
      ]
     },
     "metadata": {},
     "output_type": "display_data"
    },
    {
     "data": {
      "application/vnd.jupyter.widget-view+json": {
       "model_id": "3d7af773394c434ab4c19900f8e60c3d",
       "version_major": 2,
       "version_minor": 0
      },
      "text/plain": [
       "epoch 2/30:   0%|          | 0/469 [00:00<?, ?it/s]"
      ]
     },
     "metadata": {},
     "output_type": "display_data"
    },
    {
     "data": {
      "application/vnd.jupyter.widget-view+json": {
       "model_id": "1ae984c51c1f4e5f81d1df54761a1938",
       "version_major": 2,
       "version_minor": 0
      },
      "text/plain": [
       "epoch 3/30:   0%|          | 0/469 [00:00<?, ?it/s]"
      ]
     },
     "metadata": {},
     "output_type": "display_data"
    },
    {
     "data": {
      "application/vnd.jupyter.widget-view+json": {
       "model_id": "598fccd91fbe43029e6f105d669bf8d3",
       "version_major": 2,
       "version_minor": 0
      },
      "text/plain": [
       "epoch 4/30:   0%|          | 0/469 [00:00<?, ?it/s]"
      ]
     },
     "metadata": {},
     "output_type": "display_data"
    },
    {
     "data": {
      "application/vnd.jupyter.widget-view+json": {
       "model_id": "57e85432430e4b5c8e62786cabab2780",
       "version_major": 2,
       "version_minor": 0
      },
      "text/plain": [
       "epoch 5/30:   0%|          | 0/469 [00:00<?, ?it/s]"
      ]
     },
     "metadata": {},
     "output_type": "display_data"
    },
    {
     "data": {
      "application/vnd.jupyter.widget-view+json": {
       "model_id": "8c24c9f968a24dd49449ae7f4bff13ce",
       "version_major": 2,
       "version_minor": 0
      },
      "text/plain": [
       "epoch 6/30:   0%|          | 0/469 [00:00<?, ?it/s]"
      ]
     },
     "metadata": {},
     "output_type": "display_data"
    },
    {
     "data": {
      "application/vnd.jupyter.widget-view+json": {
       "model_id": "e7ebb7e1c7274dd2819f090c127942ca",
       "version_major": 2,
       "version_minor": 0
      },
      "text/plain": [
       "epoch 7/30:   0%|          | 0/469 [00:00<?, ?it/s]"
      ]
     },
     "metadata": {},
     "output_type": "display_data"
    },
    {
     "data": {
      "application/vnd.jupyter.widget-view+json": {
       "model_id": "763619b9865740e1b4024e6a33f8169a",
       "version_major": 2,
       "version_minor": 0
      },
      "text/plain": [
       "epoch 8/30:   0%|          | 0/469 [00:00<?, ?it/s]"
      ]
     },
     "metadata": {},
     "output_type": "display_data"
    },
    {
     "data": {
      "application/vnd.jupyter.widget-view+json": {
       "model_id": "dac8c54d78be483590f960e6526227d2",
       "version_major": 2,
       "version_minor": 0
      },
      "text/plain": [
       "epoch 9/30:   0%|          | 0/469 [00:00<?, ?it/s]"
      ]
     },
     "metadata": {},
     "output_type": "display_data"
    },
    {
     "data": {
      "application/vnd.jupyter.widget-view+json": {
       "model_id": "242e044923eb4d2aad32e1c2c1243b4f",
       "version_major": 2,
       "version_minor": 0
      },
      "text/plain": [
       "epoch 10/30:   0%|          | 0/469 [00:00<?, ?it/s]"
      ]
     },
     "metadata": {},
     "output_type": "display_data"
    },
    {
     "data": {
      "application/vnd.jupyter.widget-view+json": {
       "model_id": "36e7f61fee4f4b30bbb412d468e675ec",
       "version_major": 2,
       "version_minor": 0
      },
      "text/plain": [
       "epoch 11/30:   0%|          | 0/469 [00:00<?, ?it/s]"
      ]
     },
     "metadata": {},
     "output_type": "display_data"
    },
    {
     "data": {
      "application/vnd.jupyter.widget-view+json": {
       "model_id": "d1d0583af1fe44deae1011b2268b6a9e",
       "version_major": 2,
       "version_minor": 0
      },
      "text/plain": [
       "epoch 12/30:   0%|          | 0/469 [00:00<?, ?it/s]"
      ]
     },
     "metadata": {},
     "output_type": "display_data"
    },
    {
     "data": {
      "application/vnd.jupyter.widget-view+json": {
       "model_id": "b84b141dd49547bf828652b7e75be7ed",
       "version_major": 2,
       "version_minor": 0
      },
      "text/plain": [
       "epoch 13/30:   0%|          | 0/469 [00:00<?, ?it/s]"
      ]
     },
     "metadata": {},
     "output_type": "display_data"
    },
    {
     "data": {
      "application/vnd.jupyter.widget-view+json": {
       "model_id": "d7ecbb92881145759815bace0f6fb345",
       "version_major": 2,
       "version_minor": 0
      },
      "text/plain": [
       "epoch 14/30:   0%|          | 0/469 [00:00<?, ?it/s]"
      ]
     },
     "metadata": {},
     "output_type": "display_data"
    },
    {
     "data": {
      "application/vnd.jupyter.widget-view+json": {
       "model_id": "a61839802c5440ee88ebac4d940c4c8d",
       "version_major": 2,
       "version_minor": 0
      },
      "text/plain": [
       "epoch 15/30:   0%|          | 0/469 [00:00<?, ?it/s]"
      ]
     },
     "metadata": {},
     "output_type": "display_data"
    },
    {
     "data": {
      "application/vnd.jupyter.widget-view+json": {
       "model_id": "4db3e0a2c22143c79c623c456b9466e7",
       "version_major": 2,
       "version_minor": 0
      },
      "text/plain": [
       "epoch 16/30:   0%|          | 0/469 [00:00<?, ?it/s]"
      ]
     },
     "metadata": {},
     "output_type": "display_data"
    },
    {
     "data": {
      "application/vnd.jupyter.widget-view+json": {
       "model_id": "47624b6ed22e4fdd9a4c23e656741b21",
       "version_major": 2,
       "version_minor": 0
      },
      "text/plain": [
       "epoch 17/30:   0%|          | 0/469 [00:00<?, ?it/s]"
      ]
     },
     "metadata": {},
     "output_type": "display_data"
    },
    {
     "data": {
      "application/vnd.jupyter.widget-view+json": {
       "model_id": "dcdba8a0a0fb44c6838be172750b44bb",
       "version_major": 2,
       "version_minor": 0
      },
      "text/plain": [
       "epoch 18/30:   0%|          | 0/469 [00:00<?, ?it/s]"
      ]
     },
     "metadata": {},
     "output_type": "display_data"
    },
    {
     "data": {
      "application/vnd.jupyter.widget-view+json": {
       "model_id": "f8bf023f11144343afb6e3ab1f09e6d4",
       "version_major": 2,
       "version_minor": 0
      },
      "text/plain": [
       "epoch 19/30:   0%|          | 0/469 [00:00<?, ?it/s]"
      ]
     },
     "metadata": {},
     "output_type": "display_data"
    },
    {
     "data": {
      "application/vnd.jupyter.widget-view+json": {
       "model_id": "a5094fb2828e4ae5b8e9e057661e7e6c",
       "version_major": 2,
       "version_minor": 0
      },
      "text/plain": [
       "epoch 20/30:   0%|          | 0/469 [00:00<?, ?it/s]"
      ]
     },
     "metadata": {},
     "output_type": "display_data"
    },
    {
     "data": {
      "application/vnd.jupyter.widget-view+json": {
       "model_id": "da0f35b3256443438b734ed0fbc7c608",
       "version_major": 2,
       "version_minor": 0
      },
      "text/plain": [
       "epoch 21/30:   0%|          | 0/469 [00:00<?, ?it/s]"
      ]
     },
     "metadata": {},
     "output_type": "display_data"
    },
    {
     "data": {
      "application/vnd.jupyter.widget-view+json": {
       "model_id": "be21d30df3b04108b98e7139a90a90ea",
       "version_major": 2,
       "version_minor": 0
      },
      "text/plain": [
       "epoch 22/30:   0%|          | 0/469 [00:00<?, ?it/s]"
      ]
     },
     "metadata": {},
     "output_type": "display_data"
    },
    {
     "data": {
      "application/vnd.jupyter.widget-view+json": {
       "model_id": "814516fe00ec42cba3473a06bd433fa3",
       "version_major": 2,
       "version_minor": 0
      },
      "text/plain": [
       "epoch 23/30:   0%|          | 0/469 [00:00<?, ?it/s]"
      ]
     },
     "metadata": {},
     "output_type": "display_data"
    },
    {
     "data": {
      "application/vnd.jupyter.widget-view+json": {
       "model_id": "16de65635c7d42ab8f72b95962b8b0bd",
       "version_major": 2,
       "version_minor": 0
      },
      "text/plain": [
       "epoch 24/30:   0%|          | 0/469 [00:00<?, ?it/s]"
      ]
     },
     "metadata": {},
     "output_type": "display_data"
    },
    {
     "data": {
      "application/vnd.jupyter.widget-view+json": {
       "model_id": "0e38dc254afc4392a2a72b70da11a834",
       "version_major": 2,
       "version_minor": 0
      },
      "text/plain": [
       "epoch 25/30:   0%|          | 0/469 [00:00<?, ?it/s]"
      ]
     },
     "metadata": {},
     "output_type": "display_data"
    },
    {
     "data": {
      "application/vnd.jupyter.widget-view+json": {
       "model_id": "43122e3470194aefa075575c45a7ba68",
       "version_major": 2,
       "version_minor": 0
      },
      "text/plain": [
       "epoch 26/30:   0%|          | 0/469 [00:00<?, ?it/s]"
      ]
     },
     "metadata": {},
     "output_type": "display_data"
    },
    {
     "data": {
      "application/vnd.jupyter.widget-view+json": {
       "model_id": "0386835f17af4e5b842cd0fdce530453",
       "version_major": 2,
       "version_minor": 0
      },
      "text/plain": [
       "epoch 27/30:   0%|          | 0/469 [00:00<?, ?it/s]"
      ]
     },
     "metadata": {},
     "output_type": "display_data"
    },
    {
     "data": {
      "application/vnd.jupyter.widget-view+json": {
       "model_id": "84026abea00944f5847461655ca69bcf",
       "version_major": 2,
       "version_minor": 0
      },
      "text/plain": [
       "epoch 28/30:   0%|          | 0/469 [00:00<?, ?it/s]"
      ]
     },
     "metadata": {},
     "output_type": "display_data"
    },
    {
     "data": {
      "application/vnd.jupyter.widget-view+json": {
       "model_id": "90ce363e594b47edb7ad51dbd04f82c4",
       "version_major": 2,
       "version_minor": 0
      },
      "text/plain": [
       "epoch 29/30:   0%|          | 0/469 [00:00<?, ?it/s]"
      ]
     },
     "metadata": {},
     "output_type": "display_data"
    },
    {
     "data": {
      "application/vnd.jupyter.widget-view+json": {
       "model_id": "ad8242b9b31c40578b4bc28c77e21fdd",
       "version_major": 2,
       "version_minor": 0
      },
      "text/plain": [
       "epoch 30/30:   0%|          | 0/469 [00:00<?, ?it/s]"
      ]
     },
     "metadata": {},
     "output_type": "display_data"
    },
    {
     "data": {
      "image/png": "[encoded data removed]",
      "text/plain": [
       "<Figure size 640x480 with 1 Axes>"
      ]
     },
     "metadata": {},
     "output_type": "display_data"
    }
   ],
   "source": [
    "plt.plot(trainer_vector(training_data,model_ReLU2,torch.nn.NLLLoss(),epoch=30,batch_size=128,rate=1e-4))\n",
    "plt.show()"
   ]
  },
  {
   "cell_type": "code",
   "execution_count": 26,
   "metadata": {},
   "outputs": [
    {
     "data": {
      "text/plain": [
       "0.8669"
      ]
     },
     "execution_count": 26,
     "metadata": {},
     "output_type": "execute_result"
    }
   ],
   "source": [
    "success_rate_vector(model_ReLU2,test_data)"
   ]
  },
  {
   "cell_type": "code",
   "execution_count": 27,
   "metadata": {},
   "outputs": [
    {
     "data": {
      "application/vnd.jupyter.widget-view+json": {
       "model_id": "f84d340548a74d05b0d5844be620d114",
       "version_major": 2,
       "version_minor": 0
      },
      "text/plain": [
       "epoch 1/20:   0%|          | 0/469 [00:00<?, ?it/s]"
      ]
     },
     "metadata": {},
     "output_type": "display_data"
    },
    {
     "data": {
      "application/vnd.jupyter.widget-view+json": {
       "model_id": "336d22f7586a4d2e874a897b761eb1dd",
       "version_major": 2,
       "version_minor": 0
      },
      "text/plain": [
       "epoch 2/20:   0%|          | 0/469 [00:00<?, ?it/s]"
      ]
     },
     "metadata": {},
     "output_type": "display_data"
    },
    {
     "data": {
      "application/vnd.jupyter.widget-view+json": {
       "model_id": "b9d4189075bf4d85bf3a1442e74dc649",
       "version_major": 2,
       "version_minor": 0
      },
      "text/plain": [
       "epoch 3/20:   0%|          | 0/469 [00:00<?, ?it/s]"
      ]
     },
     "metadata": {},
     "output_type": "display_data"
    },
    {
     "data": {
      "application/vnd.jupyter.widget-view+json": {
       "model_id": "3fdf049a0d0346608314d955537fc826",
       "version_major": 2,
       "version_minor": 0
      },
      "text/plain": [
       "epoch 4/20:   0%|          | 0/469 [00:00<?, ?it/s]"
      ]
     },
     "metadata": {},
     "output_type": "display_data"
    },
    {
     "data": {
      "application/vnd.jupyter.widget-view+json": {
       "model_id": "666ffc5f4e7844308f340119c1a16482",
       "version_major": 2,
       "version_minor": 0
      },
      "text/plain": [
       "epoch 5/20:   0%|          | 0/469 [00:00<?, ?it/s]"
      ]
     },
     "metadata": {},
     "output_type": "display_data"
    },
    {
     "data": {
      "application/vnd.jupyter.widget-view+json": {
       "model_id": "13240723d0fb4c9cba0e801e9c5dc635",
       "version_major": 2,
       "version_minor": 0
      },
      "text/plain": [
       "epoch 6/20:   0%|          | 0/469 [00:00<?, ?it/s]"
      ]
     },
     "metadata": {},
     "output_type": "display_data"
    },
    {
     "data": {
      "application/vnd.jupyter.widget-view+json": {
       "model_id": "31c00ee326874617b3a8f808c2179ea6",
       "version_major": 2,
       "version_minor": 0
      },
      "text/plain": [
       "epoch 7/20:   0%|          | 0/469 [00:00<?, ?it/s]"
      ]
     },
     "metadata": {},
     "output_type": "display_data"
    },
    {
     "data": {
      "application/vnd.jupyter.widget-view+json": {
       "model_id": "f4466954caab40a6840705fa6dad3247",
       "version_major": 2,
       "version_minor": 0
      },
      "text/plain": [
       "epoch 8/20:   0%|          | 0/469 [00:00<?, ?it/s]"
      ]
     },
     "metadata": {},
     "output_type": "display_data"
    },
    {
     "data": {
      "application/vnd.jupyter.widget-view+json": {
       "model_id": "3989bdf723c84d34bf6640eb0ba7dac7",
       "version_major": 2,
       "version_minor": 0
      },
      "text/plain": [
       "epoch 9/20:   0%|          | 0/469 [00:00<?, ?it/s]"
      ]
     },
     "metadata": {},
     "output_type": "display_data"
    },
    {
     "data": {
      "application/vnd.jupyter.widget-view+json": {
       "model_id": "bca47212e037452cb5f8f86f31cc38db",
       "version_major": 2,
       "version_minor": 0
      },
      "text/plain": [
       "epoch 10/20:   0%|          | 0/469 [00:00<?, ?it/s]"
      ]
     },
     "metadata": {},
     "output_type": "display_data"
    },
    {
     "data": {
      "application/vnd.jupyter.widget-view+json": {
       "model_id": "0266376f5cd044909ad99df1cf133cfd",
       "version_major": 2,
       "version_minor": 0
      },
      "text/plain": [
       "epoch 11/20:   0%|          | 0/469 [00:00<?, ?it/s]"
      ]
     },
     "metadata": {},
     "output_type": "display_data"
    },
    {
     "data": {
      "application/vnd.jupyter.widget-view+json": {
       "model_id": "d7a89c3d36c245e298c6bcc5ea1d5fdf",
       "version_major": 2,
       "version_minor": 0
      },
      "text/plain": [
       "epoch 12/20:   0%|          | 0/469 [00:00<?, ?it/s]"
      ]
     },
     "metadata": {},
     "output_type": "display_data"
    },
    {
     "data": {
      "application/vnd.jupyter.widget-view+json": {
       "model_id": "d0a4508320eb4cab922e753024c16b3c",
       "version_major": 2,
       "version_minor": 0
      },
      "text/plain": [
       "epoch 13/20:   0%|          | 0/469 [00:00<?, ?it/s]"
      ]
     },
     "metadata": {},
     "output_type": "display_data"
    },
    {
     "data": {
      "application/vnd.jupyter.widget-view+json": {
       "model_id": "f338198c5492482a808213279fec9252",
       "version_major": 2,
       "version_minor": 0
      },
      "text/plain": [
       "epoch 14/20:   0%|          | 0/469 [00:00<?, ?it/s]"
      ]
     },
     "metadata": {},
     "output_type": "display_data"
    },
    {
     "data": {
      "application/vnd.jupyter.widget-view+json": {
       "model_id": "8bf0a555ab7948e5be65922e23cc5bc7",
       "version_major": 2,
       "version_minor": 0
      },
      "text/plain": [
       "epoch 15/20:   0%|          | 0/469 [00:00<?, ?it/s]"
      ]
     },
     "metadata": {},
     "output_type": "display_data"
    },
    {
     "data": {
      "application/vnd.jupyter.widget-view+json": {
       "model_id": "e1044a6fc38548b483fc0718537774f6",
       "version_major": 2,
       "version_minor": 0
      },
      "text/plain": [
       "epoch 16/20:   0%|          | 0/469 [00:00<?, ?it/s]"
      ]
     },
     "metadata": {},
     "output_type": "display_data"
    },
    {
     "data": {
      "application/vnd.jupyter.widget-view+json": {
       "model_id": "297ceab30bbb48bba20d7cbc96116c78",
       "version_major": 2,
       "version_minor": 0
      },
      "text/plain": [
       "epoch 17/20:   0%|          | 0/469 [00:00<?, ?it/s]"
      ]
     },
     "metadata": {},
     "output_type": "display_data"
    },
    {
     "data": {
      "application/vnd.jupyter.widget-view+json": {
       "model_id": "facc6b23168540d9a473fbcafe46e8fe",
       "version_major": 2,
       "version_minor": 0
      },
      "text/plain": [
       "epoch 18/20:   0%|          | 0/469 [00:00<?, ?it/s]"
      ]
     },
     "metadata": {},
     "output_type": "display_data"
    },
    {
     "data": {
      "application/vnd.jupyter.widget-view+json": {
       "model_id": "28ba9051582844e6925cfa811e919dea",
       "version_major": 2,
       "version_minor": 0
      },
      "text/plain": [
       "epoch 19/20:   0%|          | 0/469 [00:00<?, ?it/s]"
      ]
     },
     "metadata": {},
     "output_type": "display_data"
    },
    {
     "data": {
      "application/vnd.jupyter.widget-view+json": {
       "model_id": "070bbb071cc14e23a7b7da30749b5eb1",
       "version_major": 2,
       "version_minor": 0
      },
      "text/plain": [
       "epoch 20/20:   0%|          | 0/469 [00:00<?, ?it/s]"
      ]
     },
     "metadata": {},
     "output_type": "display_data"
    },
    {
     "data": {
      "image/png": "[encoded data removed]",
      "text/plain": [
       "<Figure size 640x480 with 1 Axes>"
      ]
     },
     "metadata": {},
     "output_type": "display_data"
    }
   ],
   "source": [
    "plt.plot(trainer_vector(training_data,model_ReLU2,torch.nn.NLLLoss(),epoch=20,batch_size=128,rate=1e-3))\n",
    "plt.show()"
   ]
  },
  {
   "cell_type": "code",
   "execution_count": 28,
   "metadata": {},
   "outputs": [
    {
     "name": "stdout",
     "output_type": "stream",
     "text": [
      "Model saved as temp.pkl\n"
     ]
    }
   ],
   "source": [
    "\n",
    "import torch\n",
    "import cloudpickle as pickle\n",
    "\n",
    "def torch_saver(net, file=\"temp.pkl\"):\n",
    "    \n",
    "    net_cpu = net.to('cpu')\n",
    "    \n",
    "    with open(file, 'wb') as f:\n",
    "        pickle.dump(net_cpu, f)\n",
    "    \n",
    "    print(f\"Model saved as {file}\")\n",
    "torch_saver(model_ReLU2)\n"
   ]
  }
 ],
 "metadata": {
  "kernelspec": {
   "display_name": "base",
   "language": "python",
   "name": "python3"
  },
  "language_info": {
   "codemirror_mode": {
    "name": "ipython",
    "version": 3
   },
   "file_extension": ".py",
   "mimetype": "text/x-python",
   "name": "python",
   "nbconvert_exporter": "python",
   "pygments_lexer": "ipython3",
   "version": "3.11.8"
  }
 },
 "nbformat": 4,
 "nbformat_minor": 2
}
